{
 "cells": [
  {
   "cell_type": "markdown",
   "id": "cfc6bb33-dd5d-4381-8ecf-324422989d6c",
   "metadata": {},
   "source": [
    "<h1>Theory Questions :</h1>\n"
   ]
  },
  {
   "cell_type": "code",
   "execution_count": 1,
   "id": "1387ff3e-84a8-48a9-a329-8e6932dba3ab",
   "metadata": {},
   "outputs": [],
   "source": [
    "# Ques 1 -: What is the difference between a function and a method in Python?"
   ]
  },
  {
   "cell_type": "code",
   "execution_count": 2,
   "id": "ede80e73-f232-4afa-bc54-49054ba05272",
   "metadata": {},
   "outputs": [
    {
     "name": "stdout",
     "output_type": "stream",
     "text": [
      "Function Result: 8\n",
      "Method Result: 8\n"
     ]
    }
   ],
   "source": [
    "# Ans -:\n",
    "\n",
    "\n",
    "\"\"\"Definition:\n",
    "\n",
    "Function: A reusable block of code that performs a specific task.\n",
    "Method: A function that is associated with an object (instance of a class).\n",
    "Context:\n",
    "\n",
    "Function: Defined outside of classes and can be called independently.\n",
    "Method: Defined within a class and operates on the data of that class.\n",
    "Syntax:\n",
    "\n",
    "Function: Uses the def keyword followed by the function name.\n",
    "Method: Also uses def, but includes self as the first parameter to refer to the instance.\n",
    "Access to Object State:\n",
    "\n",
    "Function: Cannot access instance attributes unless explicitly passed.\n",
    "Method: Can access and modify instance attributes using self.\n",
    "\"\"\"\n",
    "\n",
    "\n",
    "\n",
    "#Example\n",
    "\n",
    "def add(a, b):\n",
    "    return a + b\n",
    "\n",
    "# Method \n",
    "class Calculator:\n",
    "    def add(self, a, b):\n",
    "        return a + b\n",
    "\n",
    "# Using the function\n",
    "result_function = add(3, 5)  # Calls the function\n",
    "print(\"Function Result:\", result_function)\n",
    "\n",
    "# Using the method\n",
    "calc = Calculator()           # Create an instance of Calculator\n",
    "result_method = calc.add(3, 5)  # Calls the method on the instance\n",
    "print(\"Method Result:\", result_method)\n"
   ]
  },
  {
   "cell_type": "code",
   "execution_count": 3,
   "id": "75612579-a498-4142-965c-937e84dca1e3",
   "metadata": {},
   "outputs": [],
   "source": [
    "# Ques 2 -:Explain the concept of function arguments and parameters in Python."
   ]
  },
  {
   "cell_type": "code",
   "execution_count": 4,
   "id": "0bc69815-48a6-4f3b-bd68-f0606f5cac99",
   "metadata": {},
   "outputs": [
    {
     "name": "stdout",
     "output_type": "stream",
     "text": [
      "Hello, my name is Alice and I am 25 years old.\n",
      "Hello, my name is Bob and I am 30 years old.\n"
     ]
    }
   ],
   "source": [
    "# Ans -:\n",
    "\n",
    "\"\"\"\n",
    "1 - Parameters: These are the variables listed in the function definition. They act as placeholders for the values that will be passed to the function when it is invoked.\n",
    "\n",
    "2 - Arguments: These are the actual values supplied to the function when it is called. They correspond to the parameters defined in the function.\n",
    "\n",
    "\n",
    "Definition:\n",
    "\n",
    "Parameters are defined in the function signature.\n",
    "\n",
    "Arguments are the values provided during function execution.\n",
    "\n",
    "Function Invocation:\n",
    "\n",
    "When a function is called, the values (arguments) are matched to the parameters in the order they are defined.\n",
    "\n",
    "Types of Arguments:\n",
    "\n",
    "Positional Arguments: These are assigned to parameters based on their position.\n",
    "\n",
    "Keyword Arguments: These specify the parameter name along with the value, allowing for flexibility in the order of assignment.\n",
    "\n",
    "Default Arguments: These provide default values for parameters if no argument is passed.\n",
    "\n",
    "Variable-Length Arguments: These allow for an arbitrary number of arguments using *args and **kwargs.\n",
    "\n",
    "\"\"\"\n",
    "\n",
    "# Example\n",
    "\n",
    "def greet(name, age=25):  # 'name' is a parameter; 'age' has a default value\n",
    "    print(f\"Hello, my name is {name} and I am {age} years old.\")\n",
    "\n",
    "# Calling the function with arguments\n",
    "greet(\"Alice\")        # Here, 'Alice' is the argument for 'name'; 'age' defaults to 25\n",
    "greet(\"Bob\", 30)      # 'Bob' is the argument for 'name', and 30 is provided for 'age'\n"
   ]
  },
  {
   "cell_type": "code",
   "execution_count": 5,
   "id": "f62264c7-9666-45f7-8fa6-79fc43754c41",
   "metadata": {},
   "outputs": [],
   "source": [
    "# Ques 3 -: 3. What are the different ways to define and call a function in Python?"
   ]
  },
  {
   "cell_type": "code",
   "execution_count": 6,
   "id": "4d73c5a5-d809-41e7-bd20-2af3f85ac1f9",
   "metadata": {},
   "outputs": [
    {
     "name": "stdout",
     "output_type": "stream",
     "text": [
      "Hello, Alice!\n",
      "Hello, Bob. You are 25 years old.\n",
      "Hello, Charlie. You are 30 years old.\n",
      "6\n",
      "50\n",
      "25\n"
     ]
    }
   ],
   "source": [
    "# Ans -:\n",
    "\n",
    "\"\"\"\n",
    "Different Ways to Define and Call a Function in Python\n",
    "In Python, functions can be defined and called in several ways, depending on the desired functionality and structure of the code. Here are some of the main methods:\n",
    "\n",
    "Basic Function Definition: The most common way to define a function using the def keyword.\n",
    "\n",
    "Definition: Uses the def keyword followed by the function name and parentheses containing optional parameters.\n",
    "Calling: The function can be invoked simply by using its name followed by parentheses.\n",
    "\n",
    "\"\"\"\n",
    "# Example:\n",
    "\n",
    "\n",
    "def greet(name):\n",
    "    print(f\"Hello, {name}!\")\n",
    "\n",
    "greet(\"Alice\")  # Calling the function\n",
    "\n",
    "\"\"\"\n",
    "Function with Default Arguments: Functions can have default values for parameters, allowing them to be optional.\n",
    "\n",
    "Definition: Specify default values in the function signature.\n",
    "Calling: The function can be called with or without the optional parameters.\n",
    "\n",
    "\"\"\"\n",
    "# Example:\n",
    "\n",
    "\n",
    "def greet(name, age=25):\n",
    "    print(f\"Hello, {name}. You are {age} years old.\")\n",
    "\n",
    "greet(\"Bob\")          # Uses default age\n",
    "greet(\"Charlie\", 30)  # Overrides the default age\n",
    "\n",
    "\"\"\"\n",
    "Variable-Length Arguments: Functions can accept a variable number of arguments using *args and **kwargs.\n",
    "\n",
    "Definition: Use *args for non-keyword variable-length arguments and **kwargs for keyword variable-length arguments.\n",
    "Calling: Pass multiple arguments as needed.\n",
    "\n",
    "\"\"\"\n",
    "# Example:\n",
    "\n",
    "\n",
    "def add_numbers(*args):\n",
    "    total = sum(args)\n",
    "    return total\n",
    "\n",
    "print(add_numbers(1, 2, 3))  # Outputs: 6\n",
    "print(add_numbers(5, 10, 15, 20))  # Outputs: 50\n",
    "\n",
    "\"\"\"\n",
    "Lambda Functions: Anonymous functions defined using the lambda keyword. These are typically used for short, simple operations.\n",
    "\n",
    "Definition: Use lambda followed by parameters, a colon, and an expression.\n",
    "Calling: Call it just like any other function.\n",
    "\n",
    "\"\"\"\n",
    "# Example:\n",
    "\n",
    "square = lambda x: x * x\n",
    "print(square(5))  # Outputs: 25"
   ]
  },
  {
   "cell_type": "code",
   "execution_count": 7,
   "id": "8f925932-686f-4b8c-8ee9-60b41ad26ff2",
   "metadata": {},
   "outputs": [],
   "source": [
    "# Ques 4 -: What is the purpose of the `return` statement in a Python function?"
   ]
  },
  {
   "cell_type": "code",
   "execution_count": 8,
   "id": "422d9e4b-81e2-42db-a975-f850777b1855",
   "metadata": {},
   "outputs": [
    {
     "name": "stdout",
     "output_type": "stream",
     "text": [
      "The sum is: 8\n"
     ]
    }
   ],
   "source": [
    "# Ans -:\n",
    "\n",
    "\n",
    "\"\"\"\n",
    "\n",
    "Purpose of the return Statement in a Python Function\n",
    "\n",
    "The return statement in a Python function serves several key purposes:\n",
    "\n",
    "1 -Exiting the Function: When a return statement is executed, it immediately terminates the function's execution. Any code following the return statement within the function will not be executed.\n",
    "\n",
    "2 -Returning Values: The primary purpose of the return statement is to send back a value from a function to the caller. This allows the function to produce an output that can be used elsewhere in the code.\n",
    "\n",
    "3 -Multiple Returns: A function can have multiple return statements, allowing it to return different values based on specific conditions. Once a return statement is executed, the function exits, and only the value specified in that return is sent back to the caller.\n",
    "\n",
    "4 -None Return by Default: If a function does not include a return statement, or if the return statement is not followed by any value, the function will return None by default.\n",
    "\n",
    "\"\"\"\n",
    "\n",
    "# Example\n",
    "\n",
    "\n",
    " \n",
    "def add(a, b):\n",
    "    result = a + b\n",
    "    return result  # Returning the sum of a and b\n",
    "\n",
    "# Calling the function and storing the returned value\n",
    "sum_value = add(5, 3)\n",
    "print(\"The sum is:\", sum_value)  # Outputs: The sum is: 8"
   ]
  },
  {
   "cell_type": "code",
   "execution_count": 9,
   "id": "920ab96f-bec1-433c-8690-b10d05b58840",
   "metadata": {},
   "outputs": [],
   "source": [
    "# Ques 5 -: What are iterators in Python and how do they differ from iterables?"
   ]
  },
  {
   "cell_type": "code",
   "execution_count": 10,
   "id": "39814fdd-528c-44f9-a641-b97221c23d5c",
   "metadata": {},
   "outputs": [
    {
     "name": "stdout",
     "output_type": "stream",
     "text": [
      "0\n",
      "1\n",
      "2\n",
      "1\n",
      "2\n",
      "3\n"
     ]
    },
    {
     "data": {
      "text/plain": [
       "'\\n\\nKey Differences\\n\\n1 - State: Iterators are stateful; iterables are not.\\n2 - Usage: Iterators can be used once; iterables can create new iterators.\\n\\n'"
      ]
     },
     "execution_count": 10,
     "metadata": {},
     "output_type": "execute_result"
    }
   ],
   "source": [
    "# Ans -:\n",
    "\n",
    "\n",
    "\"\"\"\n",
    "\n",
    "Iterators vs. Iterables in Python\n",
    "\n",
    "\n",
    "1 - Iterators:\n",
    "\n",
    "- Objects that implement the iterator protocol (__iter__() and __next__()).\n",
    "- Maintain their state during iteration.\n",
    "- Can be used only once; after exhaustion, a new iterator must be created.\n",
    "\n",
    "\"\"\"\n",
    "# Example:\n",
    "\n",
    "\n",
    "class MyIterator:\n",
    "    def __init__(self, limit):\n",
    "        self.limit = limit\n",
    "        self.current = 0\n",
    "\n",
    "    def __iter__(self):\n",
    "        return self\n",
    "\n",
    "    def __next__(self):\n",
    "        if self.current < self.limit:\n",
    "            self.current += 1\n",
    "            return self.current - 1\n",
    "        else:\n",
    "            raise StopIteration\n",
    "\n",
    "my_iter = MyIterator(3)\n",
    "for value in my_iter:\n",
    "    print(value)  # Outputs: 0, 1, 2\n",
    "\n",
    "\"\"\"\n",
    "Iterables:\n",
    "\n",
    "- Objects that can return an iterator (e.g., lists, tuples, strings).\n",
    "- Can be iterated over multiple times.\n",
    "- Implement the __iter__() method but not necessarily __next__().\n",
    "\n",
    "\"\"\"\n",
    "\n",
    "# Example:\n",
    "\n",
    "my_list = [1, 2, 3]\n",
    "for item in my_list:  # my_list is an iterable\n",
    "    print(item)  # Outputs: 1, 2, 3\n",
    "\n",
    "\n",
    "\"\"\"\n",
    "\n",
    "Key Differences\n",
    "\n",
    "1 - State: Iterators are stateful; iterables are not.\n",
    "2 - Usage: Iterators can be used once; iterables can create new iterators.\n",
    "\n",
    "\"\"\"\n",
    "\n",
    "\n",
    "\n"
   ]
  },
  {
   "cell_type": "code",
   "execution_count": 11,
   "id": "51085e18-0ba4-420c-a4ee-f96ca3eb398b",
   "metadata": {},
   "outputs": [],
   "source": [
    "# Ques 6 -:  Explain the concept of generators in Python and how they are defined."
   ]
  },
  {
   "cell_type": "code",
   "execution_count": 12,
   "id": "5d01656b-0af9-4de1-9389-889165566b9c",
   "metadata": {},
   "outputs": [
    {
     "name": "stdout",
     "output_type": "stream",
     "text": [
      "0\n",
      "2\n",
      "4\n",
      "6\n",
      "8\n",
      "10\n"
     ]
    }
   ],
   "source": [
    "# Ans -:\n",
    "\n",
    "\"\"\"\n",
    "What are Generators in Python?\n",
    "\n",
    "1- Definition:\n",
    "\n",
    "Generators are iterators in Python that allow you to iterate over a sequence of values, but unlike regular functions, they don’t return all values at once. Instead, they yield one value at a time.\n",
    "\n",
    "2- Memory Efficient:\n",
    "\n",
    "They are memory efficient because instead of storing the entire sequence, they generate each item on the fly, which is useful when working with large data sets.\n",
    "\n",
    "3- Lazy Evaluation:\n",
    "\n",
    "Generators use lazy evaluation, meaning values are produced only when required, which helps in reducing memory consumption.\n",
    "\n",
    "4- Defined with yield:\n",
    "\n",
    "Unlike regular functions that use return, generators use the yield keyword. When the generator function is called, it doesn't execute its body but returns a generator object.\n",
    "\n",
    "5- Iterating through Generators:\n",
    "\n",
    "You can iterate over a generator using a for loop or manually using next(). Each call to next() resumes the function until it encounters another yield or reaches the end.\n",
    "\n",
    "\"\"\"\n",
    "\n",
    "# Syntax of a Generator\n",
    "\n",
    "def my_generator():\n",
    "    yield 1\n",
    "    yield 2\n",
    "    yield 3\n",
    "\n",
    "\n",
    "# Example:\n",
    "\n",
    "def even_numbers(limit):\n",
    "    num = 0\n",
    "    while num <= limit:\n",
    "        yield num  # Produces the next even number\n",
    "        num += 2\n",
    "\n",
    "# Using the generator\n",
    "evens = even_numbers(10)\n",
    "\n",
    "for even in evens:\n",
    "    print(even)"
   ]
  },
  {
   "cell_type": "code",
   "execution_count": 13,
   "id": "1e85a8ef-5f99-4b87-bc4a-7ca12a605e8f",
   "metadata": {},
   "outputs": [],
   "source": [
    "# Ques 7 -: What are the advantages of using generators over regular functions?"
   ]
  },
  {
   "cell_type": "code",
   "execution_count": 14,
   "id": "a1573705-ad82-43c4-b5ca-1ced28f78b4e",
   "metadata": {},
   "outputs": [
    {
     "data": {
      "text/plain": [
       "'\\nAdvantages of Using Generators over Regular Functions:\\n\\n1 -Memory Efficiency:\\n\\nGenerators produce values one at a time, reducing memory usage, especially for large datasets, as they don’t store the entire sequence in memory.\\n\\n2 -Faster Execution:\\n\\nGenerators are faster when working with large datasets because values are generated on demand, reducing the need for large allocations upfront.\\n\\n3 -Lazy Evaluation:\\n\\nGenerators only compute values when required, which is helpful for tasks like processing streams of data or handling infinite sequences.\\n\\n4 -Simpler Syntax for Iteration:\\n\\nThey simplify code when iterating over large sequences, as they don’t require manual index management or additional data structures.\\n\\n5 -State Retention:\\n\\nGenerators maintain the function’s state between yields, making them useful for handling complex iterators without needing to manage variables externally.\\n\\n\\n'"
      ]
     },
     "execution_count": 14,
     "metadata": {},
     "output_type": "execute_result"
    }
   ],
   "source": [
    "# Ans -:\n",
    "\n",
    "\"\"\"\n",
    "Advantages of Using Generators over Regular Functions:\n",
    "\n",
    "1 -Memory Efficiency:\n",
    "\n",
    "Generators produce values one at a time, reducing memory usage, especially for large datasets, as they don’t store the entire sequence in memory.\n",
    "\n",
    "2 -Faster Execution:\n",
    "\n",
    "Generators are faster when working with large datasets because values are generated on demand, reducing the need for large allocations upfront.\n",
    "\n",
    "3 -Lazy Evaluation:\n",
    "\n",
    "Generators only compute values when required, which is helpful for tasks like processing streams of data or handling infinite sequences.\n",
    "\n",
    "4 -Simpler Syntax for Iteration:\n",
    "\n",
    "They simplify code when iterating over large sequences, as they don’t require manual index management or additional data structures.\n",
    "\n",
    "5 -State Retention:\n",
    "\n",
    "Generators maintain the function’s state between yields, making them useful for handling complex iterators without needing to manage variables externally.\n",
    "\n",
    "\n",
    "\"\"\"\n",
    "\n",
    "\n"
   ]
  },
  {
   "cell_type": "code",
   "execution_count": 15,
   "id": "bbad7478-43d4-4d7f-b772-e8e01d37259a",
   "metadata": {},
   "outputs": [],
   "source": [
    "# Ques 8 -: What is a lambda function in Python and when is it typically used?"
   ]
  },
  {
   "cell_type": "code",
   "execution_count": 16,
   "id": "21c9164f-e1da-4e25-ae41-89ca669aa6bc",
   "metadata": {},
   "outputs": [
    {
     "name": "stdout",
     "output_type": "stream",
     "text": [
      "10\n"
     ]
    },
    {
     "data": {
      "text/plain": [
       "'\\nTypical Uses:\\n\\nShort, simple operations (e.g., in sorting, filtering).\\nInline functions for map(), filter(), and reduce() functions where a small function is needed temporarily.\\n\\n'"
      ]
     },
     "execution_count": 16,
     "metadata": {},
     "output_type": "execute_result"
    }
   ],
   "source": [
    "# Ans -: \n",
    "\n",
    "\n",
    "\"\"\"\n",
    "Lambda Function in Python:\n",
    "\n",
    "A lambda function is a small, anonymous function defined using the lambda keyword. It can have any number of arguments but only one expression, which is evaluated and returned. It's typically used for short, simple operations that don’t require a full function definition.\n",
    "\n",
    "Syntax:\n",
    "\n",
    "\"\"\"\n",
    "\n",
    "#lambda arguments: expression\n",
    "\n",
    "double = lambda x: x * 2\n",
    "print(double(5))  # Output: 10\n",
    "\n",
    "\"\"\"\n",
    "Typical Uses:\n",
    "\n",
    "Short, simple operations (e.g., in sorting, filtering).\n",
    "Inline functions for map(), filter(), and reduce() functions where a small function is needed temporarily.\n",
    "\n",
    "\"\"\""
   ]
  },
  {
   "cell_type": "code",
   "execution_count": 17,
   "id": "c569c3d3-0f31-4425-8bc5-044c9aded49d",
   "metadata": {},
   "outputs": [],
   "source": [
    "# Ques 9 -:  Explain the purpose and usage of the `map()` function in Python."
   ]
  },
  {
   "cell_type": "code",
   "execution_count": 18,
   "id": "0bc71c07-6df9-401d-9ff7-1d81b79e6e26",
   "metadata": {},
   "outputs": [
    {
     "name": "stdout",
     "output_type": "stream",
     "text": [
      "[1, 4, 9, 16]\n"
     ]
    },
    {
     "data": {
      "text/plain": [
       "'\\nKey Points:\\n\\nThe map() function is memory-efficient since it returns an iterator.\\nIt’s often used with lambda functions for concise code.\\n\\n'"
      ]
     },
     "execution_count": 18,
     "metadata": {},
     "output_type": "execute_result"
    }
   ],
   "source": [
    "# Ans -:\n",
    "\n",
    "\"\"\"\n",
    "Purpose of map() in Python:\n",
    "The map() function applies a given function to all items in an iterable (like a list, tuple, etc.) and returns a map object (which is an iterator) containing the results.\n",
    "\n",
    "Usage of map():\n",
    "\n",
    "It’s typically used to apply a function to each element in a collection without needing to write a loop.\n",
    "\n",
    "Syntax:\n",
    "\n",
    "\n",
    "map(function, iterable)\n",
    "\n",
    "function: The function to apply.\n",
    "iterable: The collection (list, tuple, etc.) of elements to which the function is applied.\n",
    "\n",
    "\"\"\"\n",
    "# Example:\n",
    "\n",
    "# Example to square each number in a list\n",
    "nums = [1, 2, 3, 4]\n",
    "squared = map(lambda x: x ** 2, nums)\n",
    "\n",
    "print(list(squared))  # Output: [1, 4, 9, 16]\n",
    "\n",
    "\"\"\"\n",
    "Key Points:\n",
    "\n",
    "The map() function is memory-efficient since it returns an iterator.\n",
    "It’s often used with lambda functions for concise code.\n",
    "\n",
    "\"\"\"\n",
    "    "
   ]
  },
  {
   "cell_type": "code",
   "execution_count": 19,
   "id": "c524d833-89c0-4912-bb8f-6c05c58972f7",
   "metadata": {},
   "outputs": [],
   "source": [
    "# Ques 10 -: What is the difference between `map()`, `reduce()`, and `filter()` functions in Python?"
   ]
  },
  {
   "cell_type": "code",
   "execution_count": 20,
   "id": "9d7e27dc-db7a-4df4-bb40-f1ab9c8057b3",
   "metadata": {},
   "outputs": [
    {
     "name": "stdout",
     "output_type": "stream",
     "text": [
      "[1, 4, 9, 16]\n",
      "[2, 4]\n",
      "10\n"
     ]
    },
    {
     "data": {
      "text/plain": [
       "'\\nSummary:\\n\\nmap() transforms elements.\\nfilter() selects elements.\\nreduce() aggregates elements into a single value.\\n\\n'"
      ]
     },
     "execution_count": 20,
     "metadata": {},
     "output_type": "execute_result"
    }
   ],
   "source": [
    "# Ans -:\n",
    "\n",
    "\n",
    "# Differences Between map(), reduce(), and filter() in Python:\n",
    "\n",
    "\n",
    "\"\"\"\n",
    "\n",
    "map():\n",
    "\n",
    "Purpose: Applies a function to each item in an iterable and returns a new iterable (map object) with the results.\n",
    "Returns: Transformed elements.\n",
    "Usage: When you want to transform each element in a collection.\n",
    "\n",
    "\"\"\"\n",
    "# Example: Squaring numbers.\n",
    "\n",
    "\n",
    "nums = [1, 2, 3, 4]\n",
    "squared = map(lambda x: x ** 2, nums)\n",
    "print(list(squared))  # [1, 4, 9, 16]\n",
    "\n",
    "\n",
    "\"\"\"\n",
    "filter():\n",
    "\n",
    "Purpose: Filters items in an iterable based on a function that returns True or False.\n",
    "Returns: Only the elements that satisfy the condition.\n",
    "Usage: When you want to select elements from a collection\n",
    "\n",
    "\"\"\"\n",
    "# Example: Filtering even numbers.\n",
    "\n",
    "nums = [1, 2, 3, 4]\n",
    "evens = filter(lambda x: x % 2 == 0, nums)\n",
    "print(list(evens))  # [2, 4]\n",
    "\n",
    "\n",
    "\"\"\"\n",
    "\n",
    "reduce() (from functools):\n",
    "\n",
    "Purpose: Reduces the iterable to a single value by applying a function that takes two arguments.\n",
    "Returns: A single cumulative result.\n",
    "Usage: When you want to aggregate or combine elements (e.g., sum, product).\n",
    "\n",
    "\"\"\"\n",
    "#Example: Summing all numbers.\n",
    "   \n",
    "from functools import reduce\n",
    "nums = [1, 2, 3, 4]\n",
    "total = reduce(lambda x, y: x + y, nums)\n",
    "print(total)  # 10\n",
    "\n",
    "\n",
    "\"\"\"\n",
    "Summary:\n",
    "\n",
    "map() transforms elements.\n",
    "filter() selects elements.\n",
    "reduce() aggregates elements into a single value.\n",
    "\n",
    "\"\"\""
   ]
  },
  {
   "cell_type": "code",
   "execution_count": 21,
   "id": "9aafd7e5-ddbd-4794-9226-3213a5bb99a3",
   "metadata": {},
   "outputs": [],
   "source": [
    "# Ques 11 -: Using pen & Paper write the internal mechanism for sum operation using  reduce function on this given\n",
    "\n",
    "list:[47,11,42,13]"
   ]
  },
  {
   "cell_type": "code",
   "execution_count": 22,
   "id": "e0e583cd-14f8-47f6-81ab-b98339d026aa",
   "metadata": {},
   "outputs": [
    {
     "data": {
      "image/png": "[encoded data removed]",
      "text/plain": [
       "<Figure size 640x480 with 1 Axes>"
      ]
     },
     "metadata": {},
     "output_type": "display_data"
    }
   ],
   "source": [
    "# Ans -:\n",
    "\n",
    "import matplotlib.pyplot as plt\n",
    "import matplotlib.image as mpimg\n",
    "\n",
    "# Use raw string literal or double backslashes for the file path\n",
    "img = mpimg.imread(r'C:\\Users\\manoj\\Downloads\\WhatsApp Image 2024-10-23 at 11.36.27.jpeg')\n",
    "\n",
    "\n",
    "# Display the image\n",
    "imgplot = plt.imshow(img)\n",
    "plt.axis('off')  # Optional: Turn off axes if not needed\n",
    "plt.show()\n",
    "\n"
   ]
  },
  {
   "cell_type": "markdown",
   "id": "aa5cb655-3d7c-4275-995b-b0f4cf84dee2",
   "metadata": {},
   "source": [
    "<h3> Next Section Questions :</h3>\n"
   ]
  },
  {
   "cell_type": "markdown",
   "id": "14d6e492-155c-4a71-b975-315ef244930c",
   "metadata": {},
   "source": [
    "<h1>Practical Questions :</h1>"
   ]
  },
  {
   "cell_type": "code",
   "execution_count": 23,
   "id": "87d75008-df6d-45be-9209-a28ed89a0555",
   "metadata": {},
   "outputs": [],
   "source": [
    "# Ques 1-: Write a Python function that takes a list of numbers as input and returns the sum of all even numbers in the list."
   ]
  },
  {
   "cell_type": "code",
   "execution_count": 24,
   "id": "8834681a-f069-4b9c-a80a-c6f96b58fca2",
   "metadata": {},
   "outputs": [
    {
     "name": "stdout",
     "output_type": "stream",
     "text": [
      "12\n"
     ]
    }
   ],
   "source": [
    "# Ans -:\n",
    "\n",
    "def sum_of_even_numbers(numbers):\n",
    "    total = 0  # Initialize total sum\n",
    "    for num in numbers:  # Loop through each number in the list\n",
    "        if num % 2 == 0:  # Check if the number is even\n",
    "            total += num  # Add the even number to the total\n",
    "    return total  # Return the total sum\n",
    "\n",
    "\n",
    "numbers = [1, 2, 3, 4, 5, 6]\n",
    "print(sum_of_even_numbers(numbers))\n",
    "\n"
   ]
  },
  {
   "cell_type": "code",
   "execution_count": 25,
   "id": "babbbfde-e2d2-4570-8d58-5d91b4643428",
   "metadata": {},
   "outputs": [],
   "source": [
    "# Ques 2 -:Create a Python function that accepts a string and returns the reverse of that string."
   ]
  },
  {
   "cell_type": "code",
   "execution_count": 26,
   "id": "f68d3bc4-3a17-433c-825c-4163a7e61ce8",
   "metadata": {},
   "outputs": [
    {
     "name": "stdout",
     "output_type": "stream",
     "text": [
      "jonaM si eman yM\n"
     ]
    }
   ],
   "source": [
    "# Ans -:\n",
    "\n",
    "def reverse_string(s):\n",
    "    return s[::-1]  # Slicing the string to reverse it\n",
    "\n",
    "\n",
    "print(reverse_string(\"My name is Manoj\"))\n"
   ]
  },
  {
   "cell_type": "code",
   "execution_count": 27,
   "id": "701e895f-6aed-498c-a73c-6c5598b57c6c",
   "metadata": {},
   "outputs": [],
   "source": [
    "# Ques 3-:Implement a Python function that takes a list of integers and returns a new list containing the squares of each number."
   ]
  },
  {
   "cell_type": "code",
   "execution_count": 28,
   "id": "010631cc-77cf-4e7d-938b-915aa42fdcbe",
   "metadata": {},
   "outputs": [
    {
     "name": "stdout",
     "output_type": "stream",
     "text": [
      "[1, 4, 9, 16, 25]\n"
     ]
    }
   ],
   "source": [
    "# Ans -:\n",
    "\n",
    "def square_numbers(numbers):\n",
    "    squares = []  # Initialize an empty list to store the squares\n",
    "    for num in numbers:  # Loop through each number in the list\n",
    "        squares.append(num ** 2)  # Add the square of the number to the list\n",
    "    return squares  # Return the list of squares\n",
    "\n",
    "\n",
    "numbers = [1, 2, 3, 4, 5]\n",
    "print(square_numbers(numbers))\n"
   ]
  },
  {
   "cell_type": "code",
   "execution_count": 29,
   "id": "5be3d35a-d43e-44a7-973a-9313644a03e4",
   "metadata": {},
   "outputs": [],
   "source": [
    "# Ques 4 -: Write a Python function that checks if a given number is prime or not from 1 to 200."
   ]
  },
  {
   "cell_type": "code",
   "execution_count": 30,
   "id": "6c4c5fae-fe29-498a-bf25-dce0b1321ba3",
   "metadata": {},
   "outputs": [
    {
     "name": "stdout",
     "output_type": "stream",
     "text": [
      "1 is not a prime number\n",
      "2 is a prime number\n",
      "3 is a prime number\n",
      "4 is not a prime number\n",
      "5 is a prime number\n",
      "6 is not a prime number\n",
      "7 is a prime number\n",
      "8 is not a prime number\n",
      "9 is not a prime number\n",
      "10 is not a prime number\n",
      "11 is a prime number\n",
      "12 is not a prime number\n",
      "13 is a prime number\n",
      "14 is not a prime number\n",
      "15 is not a prime number\n",
      "16 is not a prime number\n",
      "17 is a prime number\n",
      "18 is not a prime number\n",
      "19 is a prime number\n",
      "20 is not a prime number\n",
      "21 is not a prime number\n",
      "22 is not a prime number\n",
      "23 is a prime number\n",
      "24 is not a prime number\n",
      "25 is not a prime number\n",
      "26 is not a prime number\n",
      "27 is not a prime number\n",
      "28 is not a prime number\n",
      "29 is a prime number\n",
      "30 is not a prime number\n",
      "31 is a prime number\n",
      "32 is not a prime number\n",
      "33 is not a prime number\n",
      "34 is not a prime number\n",
      "35 is not a prime number\n",
      "36 is not a prime number\n",
      "37 is a prime number\n",
      "38 is not a prime number\n",
      "39 is not a prime number\n",
      "40 is not a prime number\n",
      "41 is a prime number\n",
      "42 is not a prime number\n",
      "43 is a prime number\n",
      "44 is not a prime number\n",
      "45 is not a prime number\n",
      "46 is not a prime number\n",
      "47 is a prime number\n",
      "48 is not a prime number\n",
      "49 is not a prime number\n",
      "50 is not a prime number\n",
      "51 is not a prime number\n",
      "52 is not a prime number\n",
      "53 is a prime number\n",
      "54 is not a prime number\n",
      "55 is not a prime number\n",
      "56 is not a prime number\n",
      "57 is not a prime number\n",
      "58 is not a prime number\n",
      "59 is a prime number\n",
      "60 is not a prime number\n",
      "61 is a prime number\n",
      "62 is not a prime number\n",
      "63 is not a prime number\n",
      "64 is not a prime number\n",
      "65 is not a prime number\n",
      "66 is not a prime number\n",
      "67 is a prime number\n",
      "68 is not a prime number\n",
      "69 is not a prime number\n",
      "70 is not a prime number\n",
      "71 is a prime number\n",
      "72 is not a prime number\n",
      "73 is a prime number\n",
      "74 is not a prime number\n",
      "75 is not a prime number\n",
      "76 is not a prime number\n",
      "77 is not a prime number\n",
      "78 is not a prime number\n",
      "79 is a prime number\n",
      "80 is not a prime number\n",
      "81 is not a prime number\n",
      "82 is not a prime number\n",
      "83 is a prime number\n",
      "84 is not a prime number\n",
      "85 is not a prime number\n",
      "86 is not a prime number\n",
      "87 is not a prime number\n",
      "88 is not a prime number\n",
      "89 is a prime number\n",
      "90 is not a prime number\n",
      "91 is not a prime number\n",
      "92 is not a prime number\n",
      "93 is not a prime number\n",
      "94 is not a prime number\n",
      "95 is not a prime number\n",
      "96 is not a prime number\n",
      "97 is a prime number\n",
      "98 is not a prime number\n",
      "99 is not a prime number\n",
      "100 is not a prime number\n",
      "101 is a prime number\n",
      "102 is not a prime number\n",
      "103 is a prime number\n",
      "104 is not a prime number\n",
      "105 is not a prime number\n",
      "106 is not a prime number\n",
      "107 is a prime number\n",
      "108 is not a prime number\n",
      "109 is a prime number\n",
      "110 is not a prime number\n",
      "111 is not a prime number\n",
      "112 is not a prime number\n",
      "113 is a prime number\n",
      "114 is not a prime number\n",
      "115 is not a prime number\n",
      "116 is not a prime number\n",
      "117 is not a prime number\n",
      "118 is not a prime number\n",
      "119 is not a prime number\n",
      "120 is not a prime number\n",
      "121 is not a prime number\n",
      "122 is not a prime number\n",
      "123 is not a prime number\n",
      "124 is not a prime number\n",
      "125 is not a prime number\n",
      "126 is not a prime number\n",
      "127 is a prime number\n",
      "128 is not a prime number\n",
      "129 is not a prime number\n",
      "130 is not a prime number\n",
      "131 is a prime number\n",
      "132 is not a prime number\n",
      "133 is not a prime number\n",
      "134 is not a prime number\n",
      "135 is not a prime number\n",
      "136 is not a prime number\n",
      "137 is a prime number\n",
      "138 is not a prime number\n",
      "139 is a prime number\n",
      "140 is not a prime number\n",
      "141 is not a prime number\n",
      "142 is not a prime number\n",
      "143 is not a prime number\n",
      "144 is not a prime number\n",
      "145 is not a prime number\n",
      "146 is not a prime number\n",
      "147 is not a prime number\n",
      "148 is not a prime number\n",
      "149 is a prime number\n",
      "150 is not a prime number\n",
      "151 is a prime number\n",
      "152 is not a prime number\n",
      "153 is not a prime number\n",
      "154 is not a prime number\n",
      "155 is not a prime number\n",
      "156 is not a prime number\n",
      "157 is a prime number\n",
      "158 is not a prime number\n",
      "159 is not a prime number\n",
      "160 is not a prime number\n",
      "161 is not a prime number\n",
      "162 is not a prime number\n",
      "163 is a prime number\n",
      "164 is not a prime number\n",
      "165 is not a prime number\n",
      "166 is not a prime number\n",
      "167 is a prime number\n",
      "168 is not a prime number\n",
      "169 is not a prime number\n",
      "170 is not a prime number\n",
      "171 is not a prime number\n",
      "172 is not a prime number\n",
      "173 is a prime number\n",
      "174 is not a prime number\n",
      "175 is not a prime number\n",
      "176 is not a prime number\n",
      "177 is not a prime number\n",
      "178 is not a prime number\n",
      "179 is a prime number\n",
      "180 is not a prime number\n",
      "181 is a prime number\n",
      "182 is not a prime number\n",
      "183 is not a prime number\n",
      "184 is not a prime number\n",
      "185 is not a prime number\n",
      "186 is not a prime number\n",
      "187 is not a prime number\n",
      "188 is not a prime number\n",
      "189 is not a prime number\n",
      "190 is not a prime number\n",
      "191 is a prime number\n",
      "192 is not a prime number\n",
      "193 is a prime number\n",
      "194 is not a prime number\n",
      "195 is not a prime number\n",
      "196 is not a prime number\n",
      "197 is a prime number\n",
      "198 is not a prime number\n",
      "199 is a prime number\n",
      "200 is not a prime number\n"
     ]
    }
   ],
   "source": [
    "# Ans -: \n",
    "\n",
    "def is_prime(n):\n",
    "    if n <= 1:\n",
    "        return False\n",
    "    for i in range(2, int(n ** 0.5) + 1):\n",
    "        if n % i == 0:\n",
    "            return False\n",
    "    return True\n",
    "\n",
    "# Loop through numbers from 1 to 200 and print if they are prime\n",
    "for num in range(1, 201):\n",
    "    if is_prime(num):\n",
    "        print(f\"{num} is a prime number\")\n",
    "    else:\n",
    "        print(f\"{num} is not a prime number\")\n"
   ]
  },
  {
   "cell_type": "code",
   "execution_count": 31,
   "id": "022197a2-77b6-4db5-94f8-c840be05d90b",
   "metadata": {},
   "outputs": [],
   "source": [
    "# Ques 5 -: Create an iterator class in Python that generates the Fibonacci sequence up to a specified number of terms."
   ]
  },
  {
   "cell_type": "code",
   "execution_count": 32,
   "id": "4ca9d278-18cc-4370-bd64-41a26051071a",
   "metadata": {},
   "outputs": [
    {
     "name": "stdout",
     "output_type": "stream",
     "text": [
      "[0, 1, 1, 2, 3, 5, 8, 13, 21, 34]\n"
     ]
    }
   ],
   "source": [
    "# Ans -: \n",
    "\n",
    "def fibonacci(n):\n",
    "    fib_sequence = []  # List to store Fibonacci numbers\n",
    "    a, b = 0, 1  # Initial values for Fibonacci sequence\n",
    "\n",
    "    for _ in range(n):\n",
    "        fib_sequence.append(a)  # Add the current Fibonacci number to the list\n",
    "        a, b = b, a + b  # Update to the next Fibonacci numbers\n",
    "\n",
    "    return fib_sequence  # Return the list of Fibonacci numbers\n",
    "\n",
    "# Example usage\n",
    "num_terms = 10  # Specify the number of terms\n",
    "result = fibonacci(num_terms)  # Generate Fibonacci sequence\n",
    "print(result)  # Print the Fibonacci sequence\n"
   ]
  },
  {
   "cell_type": "code",
   "execution_count": 33,
   "id": "7889f933-6e5f-4340-94a1-32467665962f",
   "metadata": {},
   "outputs": [],
   "source": [
    "# Ques 6 -: Write a generator function in Python that yields the powers of 2 up to a given exponent."
   ]
  },
  {
   "cell_type": "code",
   "execution_count": 34,
   "id": "03a2a595-7e1d-41de-9c16-f867d2b3b6a7",
   "metadata": {},
   "outputs": [
    {
     "name": "stdout",
     "output_type": "stream",
     "text": [
      "1\n",
      "2\n",
      "4\n",
      "8\n",
      "16\n",
      "32\n"
     ]
    }
   ],
   "source": [
    "# Ans -: \n",
    "\n",
    "def powers_of_2(exponent):\n",
    "    for i in range(exponent + 1):  # Loop from 0 to the given exponent (inclusive)\n",
    "        yield 2 ** i  # Yield 2 raised to the power of i\n",
    "\n",
    "# Example usage\n",
    "exponent = 5  # Specify the maximum exponent\n",
    "for power in powers_of_2(exponent):  # Iterate over the generator\n",
    "    print(power)\n"
   ]
  },
  {
   "cell_type": "code",
   "execution_count": 35,
   "id": "c1314015-0ef0-44ef-8c9c-998362f57c92",
   "metadata": {},
   "outputs": [],
   "source": [
    "# Ques 7 -:  Implement a generator function that reads a file line by line and yields each line as a string."
   ]
  },
  {
   "cell_type": "code",
   "execution_count": 36,
   "id": "577266bf-9a38-4f77-b6a4-2e2b04313c82",
   "metadata": {},
   "outputs": [
    {
     "name": "stdout",
     "output_type": "stream",
     "text": [
      "Name,Age,Department,Salary,Experience,Bonus\n",
      "John,28,HR,50000,5,5000.0\n",
      "Sara,34,Finance,70000,10,7000.0\n",
      "Tom,29,IT,80000,6,8000.0\n",
      "Nina,31,Marketing,60000,8,6000.0\n",
      "Jake,45,Sales,75000,20,7500.0\n",
      "Liam,22,Finance,71000,1,7100.0\n",
      "Emma,38,HR,55000,15,5500.0\n",
      "Olivia,26,IT,62000,4,6200.0\n",
      "Mia,33,Sales,72000,7,7200.0\n",
      "Noah,27,Marketing,58000,3,5800.0\n",
      "Sophia,36,HR,51000,12,5100.0\n",
      "Mason,44,IT,81000,18,8100.0\n",
      "Ava,30,Finance,73000,9,7300.0\n",
      "Elijah,41,Sales,76000,22,7600.0\n",
      "Isabella,25,Marketing,60000,2,6000.0\n",
      "Logan,32,HR,54000,6,5400.0\n",
      "Amelia,48,Finance,68000,25,6800.0\n",
      "James,50,Sales,79000,30,7900.0\n",
      "Charlotte,39,IT,82000,13,8200.0\n",
      "Lucas,35,Marketing,61000,11,6100.0\n",
      "Harper,43,Finance,70000,17,7000.0\n",
      "Ella,40,Sales,75000,14,7500.0\n",
      "Benjamin,28,HR,52000,5,5200.0\n",
      "Jack,24,IT,83000,27,8300.0\n",
      "Zoe,29,Marketing,59000,4,5900.0\n",
      "Henry,37,HR,53000,3,5300.0\n",
      "Lily,26,Finance,72000,8,7200.0\n",
      "Owen,23,IT,81000,2,8100.0\n",
      "Emily,42,Sales,65000,19,6500.0\n",
      "Luke,31,HR,56000,6,5600.0\n"
     ]
    }
   ],
   "source": [
    "# Ans -: \n",
    "\n",
    "\n",
    "def read_file_line_by_line(file_path):\n",
    "    with open(file_path, 'r') as file:  # Open the file in read mode\n",
    "        for line in file:  # Iterate over each line in the file\n",
    "            yield line.strip()  # Yield the line after stripping whitespace\n",
    "\n",
    "# Example usage\n",
    "file_path = 'employee_data.csv'  # Specify the path to your file\n",
    "for line in read_file_line_by_line(file_path):  # Iterate over the generator\n",
    "    print(line)\n"
   ]
  },
  {
   "cell_type": "code",
   "execution_count": 37,
   "id": "96958599-a5d4-4dc2-8130-b0d8a527e17e",
   "metadata": {},
   "outputs": [],
   "source": [
    "# Ques 8 -: Use a lambda function in Python to sort a list of tuples based on the second element of each tuple."
   ]
  },
  {
   "cell_type": "code",
   "execution_count": 38,
   "id": "44456e78-c47f-4632-af05-f74ecbe0beef",
   "metadata": {},
   "outputs": [
    {
     "name": "stdout",
     "output_type": "stream",
     "text": [
      "[(2, 'apple'), (1, 'banana'), (4, 'grape'), (3, 'orange')]\n"
     ]
    }
   ],
   "source": [
    "# Ans -:\n",
    "\n",
    "# Sample list of tuples\n",
    "tuples_list = [(1, 'banana'), (2, 'apple'), (3, 'orange'), (4, 'grape')]\n",
    "\n",
    "# Sort the list of tuples based on the second element\n",
    "sorted_list = sorted(tuples_list, key=lambda x: x[1])\n",
    "\n",
    "# Print the sorted list\n",
    "print(sorted_list)\n"
   ]
  },
  {
   "cell_type": "code",
   "execution_count": 39,
   "id": "259c3bb5-da90-4d19-b2f6-ce81925e069e",
   "metadata": {},
   "outputs": [],
   "source": [
    "# Ques 9 -: Write a Python program that uses `map()` to convert a list of temperatures from Celsius to Fahrenheit."
   ]
  },
  {
   "cell_type": "code",
   "execution_count": 40,
   "id": "8159edfb-e774-495d-be6b-599a1e5a8294",
   "metadata": {},
   "outputs": [
    {
     "name": "stdout",
     "output_type": "stream",
     "text": [
      "Celsius temperatures: [0, 20, 37, 100, -10]\n",
      "Fahrenheit temperatures: [32.0, 68.0, 98.6, 212.0, 14.0]\n"
     ]
    }
   ],
   "source": [
    "# Ans -:\n",
    "\n",
    "# List of temperatures in Celsius\n",
    "celsius_temps = [0, 20, 37, 100, -10]\n",
    "\n",
    "# Function to convert Celsius to Fahrenheit\n",
    "def celsius_to_fahrenheit(celsius):\n",
    "    return (celsius * 9/5) + 32\n",
    "\n",
    "# Use map to apply the conversion function to each temperature in the list\n",
    "fahrenheit_temps = list(map(celsius_to_fahrenheit, celsius_temps))\n",
    "\n",
    "# Print the converted temperatures\n",
    "print(\"Celsius temperatures:\", celsius_temps)\n",
    "print(\"Fahrenheit temperatures:\", fahrenheit_temps)\n"
   ]
  },
  {
   "cell_type": "code",
   "execution_count": 41,
   "id": "5c76fb40-935d-47f1-b106-8b83250af422",
   "metadata": {},
   "outputs": [],
   "source": [
    "# Ques 10 -:  Create a Python program that uses `filter()` to remove all the vowels from a given string."
   ]
  },
  {
   "cell_type": "code",
   "execution_count": 42,
   "id": "7d2aa48e-45ea-4e3d-ab13-ebcf731cd220",
   "metadata": {},
   "outputs": [
    {
     "name": "stdout",
     "output_type": "stream",
     "text": [
      "Original string: Hello, World!\n",
      "String without vowels: Hll, Wrld!\n"
     ]
    }
   ],
   "source": [
    "# Ans -:\n",
    "\n",
    "# Function to check if a character is not a vowel\n",
    "def is_not_vowel(char):\n",
    "    return char.lower() not in 'aeiou'\n",
    "\n",
    "# Given string\n",
    "input_string = \"Hello, World!\"\n",
    "\n",
    "# Use filter to remove vowels from the string\n",
    "filtered_string = ''.join(filter(is_not_vowel, input_string))\n",
    "\n",
    "# Print the original and filtered strings\n",
    "print(\"Original string:\", input_string)\n",
    "print(\"String without vowels:\", filtered_string)\n"
   ]
  },
  {
   "cell_type": "code",
   "execution_count": 43,
   "id": "36805bab-54a0-487a-b66e-7b8f0ce51eea",
   "metadata": {},
   "outputs": [
    {
     "data": {
      "text/plain": [
       "'\\n\\nWrite a Python program, which returns a list with 2-tuples. Each tuple consists of the order number and the\\nproduct of the price per item and the quantity. The product should be increased by 10,- € if the value of the\\norder is smaller than 100,00 €.\\n\\nWrite a Python program using lambda and map.\\n\\n'"
      ]
     },
     "execution_count": 43,
     "metadata": {},
     "output_type": "execute_result"
    }
   ],
   "source": [
    "# Ques 11 -:  Imagine an accounting routine used in a book shop. It works on a list with sublists, which look like this:\n",
    "\n",
    "\"\"\"\n",
    "\n",
    "Write a Python program, which returns a list with 2-tuples. Each tuple consists of the order number and the\n",
    "product of the price per item and the quantity. The product should be increased by 10,- € if the value of the\n",
    "order is smaller than 100,00 €.\n",
    "\n",
    "Write a Python program using lambda and map.\n",
    "\n",
    "\"\"\""
   ]
  },
  {
   "cell_type": "code",
   "execution_count": 44,
   "id": "8b7fd8fc-fca2-4e8e-b9b6-c48aac15ba7e",
   "metadata": {},
   "outputs": [
    {
     "name": "stdout",
     "output_type": "stream",
     "text": [
      "Order Summary (Order Number, Total Price):\n",
      "(1, 40.0)\n",
      "(2, 60.0)\n",
      "(3, 120.0)\n",
      "(4, 60.0)\n",
      "(5, 100.0)\n"
     ]
    }
   ],
   "source": [
    "# Ans -:\n",
    "\n",
    "\n",
    "# plese note in this question own input are taken\n",
    "\n",
    "# Sample input\n",
    "# order_number, price_per_item, quantity\n",
    "orders = [\n",
    "    [1, 15.00, 2],    # Order 1: 2 items at €15 each\n",
    "    [2, 50.00, 1],    # Order 2: 1 item at €50\n",
    "    [3, 40.00, 3],    # Order 3: 3 items at €40 each\n",
    "    [4, 10.00, 5],    # Order 4: 5 items at €10 each\n",
    "    [5, 25.00, 4]     # Order 5: 4 items at €25 each\n",
    "]\n",
    "\n",
    "# Function to calculate the total price for each order\n",
    "def calculate_total(order):\n",
    "    order_number, price_per_item, quantity = order\n",
    "    total_price = price_per_item * quantity\n",
    "    # Increase the total price by €10 if it's less than €100\n",
    "    if total_price < 100:\n",
    "        total_price += 10\n",
    "    return (order_number, total_price)\n",
    "\n",
    "# Using map and lambda to process the orders\n",
    "result = list(map(lambda order: calculate_total(order), orders))\n",
    "\n",
    "# Print the result\n",
    "print(\"Order Summary (Order Number, Total Price):\")\n",
    "for order in result:\n",
    "    print(order)\n"
   ]
  },
  {
   "cell_type": "code",
   "execution_count": null,
   "id": "8be37ccb-7539-442e-aef4-905b3c079150",
   "metadata": {},
   "outputs": [],
   "source": []
  }
 ],
 "metadata": {
  "kernelspec": {
   "display_name": "Python 3 (ipykernel)",
   "language": "python",
   "name": "python3"
  },
  "language_info": {
   "codemirror_mode": {
    "name": "ipython",
    "version": 3
   },
   "file_extension": ".py",
   "mimetype": "text/x-python",
   "name": "python",
   "nbconvert_exporter": "python",
   "pygments_lexer": "ipython3",
   "version": "3.12.4"
  }
 },
 "nbformat": 4,
 "nbformat_minor": 5
}
